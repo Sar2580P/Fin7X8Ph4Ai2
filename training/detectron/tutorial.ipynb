{
 "cells": [
  {
   "cell_type": "code",
   "execution_count": 1,
   "metadata": {},
   "outputs": [
    {
     "data": {
      "text/plain": [
       "['/home/bala/Desktop/sri_krishna/computer_vision',\n",
       " '/home/bala/Desktop/sri_krishna/detectron2',\n",
       " '/usr/lib/python310.zip',\n",
       " '/usr/lib/python3.10',\n",
       " '/usr/lib/python3.10/lib-dynload',\n",
       " '',\n",
       " '/home/bala/.cache/pypoetry/virtualenvs/computer-vision-kNrYXDsH-py3.10/lib/python3.10/site-packages']"
      ]
     },
     "execution_count": 1,
     "metadata": {},
     "output_type": "execute_result"
    }
   ],
   "source": [
    "import os, sys\n",
    "os.chdir('../../..')\n",
    "os.getcwd()\n",
    "sys.path.insert(0, os.path.join(os.getcwd(), 'detectron2'))\n",
    "sys.path.insert(0, os.path.join(os.getcwd(), 'computer_vision'))\n",
    "\n",
    "sys.path"
   ]
  },
  {
   "cell_type": "markdown",
   "metadata": {},
   "source": [
    "### Setup"
   ]
  },
  {
   "cell_type": "code",
   "execution_count": 2,
   "metadata": {},
   "outputs": [
    {
     "name": "stdout",
     "output_type": "stream",
     "text": [
      "Ignoring dataclasses: markers 'python_version < \"3.7\"' don't match your environment\n",
      "Requirement already satisfied: Pillow>=7.1 in /home/bala/.cache/pypoetry/virtualenvs/computer-vision-kNrYXDsH-py3.10/lib/python3.10/site-packages (10.3.0)\n",
      "Requirement already satisfied: matplotlib in /home/bala/.cache/pypoetry/virtualenvs/computer-vision-kNrYXDsH-py3.10/lib/python3.10/site-packages (3.8.4)\n",
      "Requirement already satisfied: pycocotools>=2.0.2 in /home/bala/.cache/pypoetry/virtualenvs/computer-vision-kNrYXDsH-py3.10/lib/python3.10/site-packages (2.0.7)\n",
      "Collecting termcolor>=1.1\n",
      "  Using cached termcolor-2.4.0-py3-none-any.whl.metadata (6.1 kB)\n",
      "Collecting yacs>=0.1.8\n",
      "  Using cached yacs-0.1.8-py3-none-any.whl.metadata (639 bytes)\n",
      "Requirement already satisfied: tabulate in /home/bala/.cache/pypoetry/virtualenvs/computer-vision-kNrYXDsH-py3.10/lib/python3.10/site-packages (0.9.0)\n",
      "Collecting cloudpickle\n",
      "  Using cached cloudpickle-3.0.0-py3-none-any.whl.metadata (7.0 kB)\n",
      "Requirement already satisfied: tqdm>4.29.0 in /home/bala/.cache/pypoetry/virtualenvs/computer-vision-kNrYXDsH-py3.10/lib/python3.10/site-packages (4.66.4)\n",
      "Collecting tensorboard\n",
      "  Using cached tensorboard-2.17.0-py3-none-any.whl.metadata (1.6 kB)\n",
      "Collecting fvcore<0.1.6,>=0.1.5\n",
      "  Using cached fvcore-0.1.5.post20221221-py3-none-any.whl\n",
      "Collecting iopath<0.1.10,>=0.1.7\n",
      "  Using cached iopath-0.1.9-py3-none-any.whl.metadata (370 bytes)\n",
      "Collecting omegaconf<2.4,>=2.1\n",
      "  Using cached omegaconf-2.3.0-py3-none-any.whl.metadata (3.9 kB)\n",
      "Collecting hydra-core>=1.1\n",
      "  Using cached hydra_core-1.3.2-py3-none-any.whl.metadata (5.5 kB)\n",
      "Collecting black\n",
      "  Using cached black-24.4.2-cp310-cp310-manylinux_2_17_x86_64.manylinux2014_x86_64.whl.metadata (77 kB)\n",
      "Requirement already satisfied: packaging in /home/bala/.cache/pypoetry/virtualenvs/computer-vision-kNrYXDsH-py3.10/lib/python3.10/site-packages (24.0)\n",
      "Requirement already satisfied: contourpy>=1.0.1 in /home/bala/.cache/pypoetry/virtualenvs/computer-vision-kNrYXDsH-py3.10/lib/python3.10/site-packages (from matplotlib) (1.2.1)\n",
      "Requirement already satisfied: cycler>=0.10 in /home/bala/.cache/pypoetry/virtualenvs/computer-vision-kNrYXDsH-py3.10/lib/python3.10/site-packages (from matplotlib) (0.12.1)\n",
      "Requirement already satisfied: fonttools>=4.22.0 in /home/bala/.cache/pypoetry/virtualenvs/computer-vision-kNrYXDsH-py3.10/lib/python3.10/site-packages (from matplotlib) (4.51.0)\n",
      "Requirement already satisfied: kiwisolver>=1.3.1 in /home/bala/.cache/pypoetry/virtualenvs/computer-vision-kNrYXDsH-py3.10/lib/python3.10/site-packages (from matplotlib) (1.4.5)\n",
      "Requirement already satisfied: numpy>=1.21 in /home/bala/.cache/pypoetry/virtualenvs/computer-vision-kNrYXDsH-py3.10/lib/python3.10/site-packages (from matplotlib) (1.26.4)\n",
      "Requirement already satisfied: pyparsing>=2.3.1 in /home/bala/.cache/pypoetry/virtualenvs/computer-vision-kNrYXDsH-py3.10/lib/python3.10/site-packages (from matplotlib) (3.1.2)\n",
      "Requirement already satisfied: python-dateutil>=2.7 in /home/bala/.cache/pypoetry/virtualenvs/computer-vision-kNrYXDsH-py3.10/lib/python3.10/site-packages (from matplotlib) (2.9.0.post0)\n",
      "Requirement already satisfied: PyYAML in /home/bala/.cache/pypoetry/virtualenvs/computer-vision-kNrYXDsH-py3.10/lib/python3.10/site-packages (from yacs>=0.1.8) (6.0.1)\n",
      "Collecting absl-py>=0.4 (from tensorboard)\n",
      "  Using cached absl_py-2.1.0-py3-none-any.whl.metadata (2.3 kB)\n",
      "Collecting grpcio>=1.48.2 (from tensorboard)\n",
      "  Downloading grpcio-1.65.2-cp310-cp310-manylinux_2_17_x86_64.manylinux2014_x86_64.whl.metadata (3.3 kB)\n",
      "Collecting markdown>=2.6.8 (from tensorboard)\n",
      "  Using cached Markdown-3.6-py3-none-any.whl.metadata (7.0 kB)\n",
      "Requirement already satisfied: protobuf!=4.24.0,<5.0.0,>=3.19.6 in /home/bala/.cache/pypoetry/virtualenvs/computer-vision-kNrYXDsH-py3.10/lib/python3.10/site-packages (from tensorboard) (4.25.3)\n",
      "Requirement already satisfied: setuptools>=41.0.0 in /home/bala/.cache/pypoetry/virtualenvs/computer-vision-kNrYXDsH-py3.10/lib/python3.10/site-packages (from tensorboard) (69.5.1)\n",
      "Requirement already satisfied: six>1.9 in /home/bala/.cache/pypoetry/virtualenvs/computer-vision-kNrYXDsH-py3.10/lib/python3.10/site-packages (from tensorboard) (1.16.0)\n",
      "Collecting tensorboard-data-server<0.8.0,>=0.7.0 (from tensorboard)\n",
      "  Using cached tensorboard_data_server-0.7.2-py3-none-manylinux_2_31_x86_64.whl.metadata (1.1 kB)\n",
      "Collecting werkzeug>=1.0.1 (from tensorboard)\n",
      "  Using cached werkzeug-3.0.3-py3-none-any.whl.metadata (3.7 kB)\n",
      "Collecting portalocker (from iopath<0.1.10,>=0.1.7)\n",
      "  Downloading portalocker-2.10.1-py3-none-any.whl.metadata (8.5 kB)\n",
      "Collecting antlr4-python3-runtime==4.9.* (from omegaconf<2.4,>=2.1)\n",
      "  Using cached antlr4_python3_runtime-4.9.3-py3-none-any.whl\n",
      "Requirement already satisfied: click>=8.0.0 in /home/bala/.cache/pypoetry/virtualenvs/computer-vision-kNrYXDsH-py3.10/lib/python3.10/site-packages (from black) (8.1.7)\n",
      "Collecting mypy-extensions>=0.4.3 (from black)\n",
      "  Using cached mypy_extensions-1.0.0-py3-none-any.whl.metadata (1.1 kB)\n",
      "Collecting pathspec>=0.9.0 (from black)\n",
      "  Using cached pathspec-0.12.1-py3-none-any.whl.metadata (21 kB)\n",
      "Requirement already satisfied: platformdirs>=2 in /home/bala/.cache/pypoetry/virtualenvs/computer-vision-kNrYXDsH-py3.10/lib/python3.10/site-packages (from black) (4.2.1)\n",
      "Requirement already satisfied: tomli>=1.1.0 in /home/bala/.cache/pypoetry/virtualenvs/computer-vision-kNrYXDsH-py3.10/lib/python3.10/site-packages (from black) (2.0.1)\n",
      "Requirement already satisfied: typing-extensions>=4.0.1 in /home/bala/.cache/pypoetry/virtualenvs/computer-vision-kNrYXDsH-py3.10/lib/python3.10/site-packages (from black) (4.11.0)\n",
      "Requirement already satisfied: MarkupSafe>=2.1.1 in /home/bala/.cache/pypoetry/virtualenvs/computer-vision-kNrYXDsH-py3.10/lib/python3.10/site-packages (from werkzeug>=1.0.1->tensorboard) (2.1.5)\n",
      "Using cached termcolor-2.4.0-py3-none-any.whl (7.7 kB)\n",
      "Using cached yacs-0.1.8-py3-none-any.whl (14 kB)\n",
      "Using cached cloudpickle-3.0.0-py3-none-any.whl (20 kB)\n",
      "Using cached tensorboard-2.17.0-py3-none-any.whl (5.5 MB)\n",
      "Using cached iopath-0.1.9-py3-none-any.whl (27 kB)\n",
      "Using cached omegaconf-2.3.0-py3-none-any.whl (79 kB)\n",
      "Using cached hydra_core-1.3.2-py3-none-any.whl (154 kB)\n",
      "Using cached black-24.4.2-cp310-cp310-manylinux_2_17_x86_64.manylinux2014_x86_64.whl (1.8 MB)\n",
      "Using cached absl_py-2.1.0-py3-none-any.whl (133 kB)\n",
      "Downloading grpcio-1.65.2-cp310-cp310-manylinux_2_17_x86_64.manylinux2014_x86_64.whl (5.7 MB)\n",
      "\u001b[2K   \u001b[90m━━━━━━━━━━━━━━━━━━━━━━━━━━━━━━━━━━━━━━━━\u001b[0m \u001b[32m5.7/5.7 MB\u001b[0m \u001b[31m20.0 MB/s\u001b[0m eta \u001b[36m0:00:00\u001b[0m00:01\u001b[0m00:01\u001b[0m\n",
      "\u001b[?25hUsing cached Markdown-3.6-py3-none-any.whl (105 kB)\n",
      "Using cached mypy_extensions-1.0.0-py3-none-any.whl (4.7 kB)\n",
      "Using cached pathspec-0.12.1-py3-none-any.whl (31 kB)\n",
      "Using cached tensorboard_data_server-0.7.2-py3-none-manylinux_2_31_x86_64.whl (6.6 MB)\n",
      "Using cached werkzeug-3.0.3-py3-none-any.whl (227 kB)\n",
      "Downloading portalocker-2.10.1-py3-none-any.whl (18 kB)\n",
      "Installing collected packages: antlr4-python3-runtime, yacs, werkzeug, termcolor, tensorboard-data-server, portalocker, pathspec, omegaconf, mypy-extensions, markdown, grpcio, cloudpickle, absl-py, tensorboard, iopath, hydra-core, black, fvcore\n",
      "Successfully installed absl-py-2.1.0 antlr4-python3-runtime-4.9.3 black-24.4.2 cloudpickle-3.0.0 fvcore-0.1.5.post20221221 grpcio-1.65.2 hydra-core-1.3.2 iopath-0.1.9 markdown-3.6 mypy-extensions-1.0.0 omegaconf-2.3.0 pathspec-0.12.1 portalocker-2.10.1 tensorboard-2.17.0 tensorboard-data-server-0.7.2 termcolor-2.4.0 werkzeug-3.0.3 yacs-0.1.8\n",
      "\n",
      "\u001b[1m[\u001b[0m\u001b[34;49mnotice\u001b[0m\u001b[1;39;49m]\u001b[0m\u001b[39;49m A new release of pip is available: \u001b[0m\u001b[31;49m24.0\u001b[0m\u001b[39;49m -> \u001b[0m\u001b[32;49m24.2\u001b[0m\n",
      "\u001b[1m[\u001b[0m\u001b[34;49mnotice\u001b[0m\u001b[1;39;49m]\u001b[0m\u001b[39;49m To update, run: \u001b[0m\u001b[32;49mpip install --upgrade pip\u001b[0m\n"
     ]
    }
   ],
   "source": [
    "import sys, os, distutils.core\n",
    "\n",
    "# # Note: This is a faster way to install detectron2 in Colab, but it does not include all functionalities (e.g. compiled operators).\n",
    "# # See https://detectron2.readthedocs.io/tutorials/install.html for full installation instructions\n",
    "# !git clone 'https://github.com/facebookresearch/detectron2' \n",
    "# dist = distutils.core.run_setup(\"detectron2/setup.py\")\n",
    "# !python -m pip install {' '.join([f\"'{x}'\" for x in dist.install_requires])}\n",
    "\n"
   ]
  },
  {
   "cell_type": "markdown",
   "metadata": {},
   "source": [
    "### Imports"
   ]
  },
  {
   "cell_type": "code",
   "execution_count": 3,
   "metadata": {},
   "outputs": [
    {
     "name": "stderr",
     "output_type": "stream",
     "text": [
      "/home/bala/.cache/pypoetry/virtualenvs/computer-vision-kNrYXDsH-py3.10/lib/python3.10/site-packages/tqdm/auto.py:21: TqdmWarning: IProgress not found. Please update jupyter and ipywidgets. See https://ipywidgets.readthedocs.io/en/stable/user_install.html\n",
      "  from .autonotebook import tqdm as notebook_tqdm\n"
     ]
    },
    {
     "name": "stdout",
     "output_type": "stream",
     "text": [
      "matplotlib data path: /home/bala/.cache/pypoetry/virtualenvs/computer-vision-kNrYXDsH-py3.10/lib/python3.10/site-packages/matplotlib/mpl-data\n",
      "CONFIGDIR=/home/bala/.config/matplotlib\n",
      "interactive is False\n",
      "platform is linux\n",
      "CACHEDIR=/home/bala/.cache/matplotlib\n",
      "Using fontManager instance from /home/bala/.cache/matplotlib/fontlist-v330.json\n"
     ]
    }
   ],
   "source": [
    "# Some basic setup:\n",
    "# Setup detectron2 logger\n",
    "# import detectron2\n",
    "from detectron2.utils.logger import setup_logger\n",
    "setup_logger()\n",
    "\n",
    "# import some common libraries\n",
    "import numpy as np\n",
    "import os, json, cv2, random\n",
    "# from google.colab.patches import cv2_imshow\n",
    "\n",
    "# import some common detectron2 utilities\n",
    "from detectron2 import model_zoo\n",
    "from detectron2.engine import DefaultPredictor\n",
    "from detectron2.config import get_cfg\n",
    "from detectron2.utils.visualizer import Visualizer\n",
    "from detectron2.data import MetadataCatalog, DatasetCatalog"
   ]
  },
  {
   "cell_type": "code",
   "execution_count": 6,
   "metadata": {},
   "outputs": [
    {
     "data": {
      "text/plain": [
       "CfgNode({'VERSION': 2, 'MODEL': CfgNode({'LOAD_PROPOSALS': False, 'MASK_ON': False, 'KEYPOINT_ON': False, 'DEVICE': 'cuda', 'META_ARCHITECTURE': 'GeneralizedRCNN', 'WEIGHTS': '', 'PIXEL_MEAN': [103.53, 116.28, 123.675], 'PIXEL_STD': [1.0, 1.0, 1.0], 'BACKBONE': CfgNode({'NAME': 'build_resnet_backbone', 'FREEZE_AT': 2}), 'FPN': CfgNode({'IN_FEATURES': [], 'OUT_CHANNELS': 256, 'NORM': '', 'FUSE_TYPE': 'sum'}), 'PROPOSAL_GENERATOR': CfgNode({'NAME': 'RPN', 'MIN_SIZE': 0}), 'ANCHOR_GENERATOR': CfgNode({'NAME': 'DefaultAnchorGenerator', 'SIZES': [[32, 64, 128, 256, 512]], 'ASPECT_RATIOS': [[0.5, 1.0, 2.0]], 'ANGLES': [[-90, 0, 90]], 'OFFSET': 0.0}), 'RPN': CfgNode({'HEAD_NAME': 'StandardRPNHead', 'IN_FEATURES': ['res4'], 'BOUNDARY_THRESH': -1, 'IOU_THRESHOLDS': [0.3, 0.7], 'IOU_LABELS': [0, -1, 1], 'BATCH_SIZE_PER_IMAGE': 256, 'POSITIVE_FRACTION': 0.5, 'BBOX_REG_LOSS_TYPE': 'smooth_l1', 'BBOX_REG_LOSS_WEIGHT': 1.0, 'BBOX_REG_WEIGHTS': (1.0, 1.0, 1.0, 1.0), 'SMOOTH_L1_BETA': 0.0, 'LOSS_WEIGHT': 1.0, 'PRE_NMS_TOPK_TRAIN': 12000, 'PRE_NMS_TOPK_TEST': 6000, 'POST_NMS_TOPK_TRAIN': 2000, 'POST_NMS_TOPK_TEST': 1000, 'NMS_THRESH': 0.7, 'CONV_DIMS': [-1]}), 'ROI_HEADS': CfgNode({'NAME': 'Res5ROIHeads', 'NUM_CLASSES': 80, 'IN_FEATURES': ['res4'], 'IOU_THRESHOLDS': [0.5], 'IOU_LABELS': [0, 1], 'BATCH_SIZE_PER_IMAGE': 512, 'POSITIVE_FRACTION': 0.25, 'SCORE_THRESH_TEST': 0.05, 'NMS_THRESH_TEST': 0.5, 'PROPOSAL_APPEND_GT': True}), 'ROI_BOX_HEAD': CfgNode({'NAME': '', 'BBOX_REG_LOSS_TYPE': 'smooth_l1', 'BBOX_REG_LOSS_WEIGHT': 1.0, 'BBOX_REG_WEIGHTS': (10.0, 10.0, 5.0, 5.0), 'SMOOTH_L1_BETA': 0.0, 'POOLER_RESOLUTION': 14, 'POOLER_SAMPLING_RATIO': 0, 'POOLER_TYPE': 'ROIAlignV2', 'NUM_FC': 0, 'FC_DIM': 1024, 'NUM_CONV': 0, 'CONV_DIM': 256, 'NORM': '', 'CLS_AGNOSTIC_BBOX_REG': False, 'TRAIN_ON_PRED_BOXES': False, 'USE_FED_LOSS': False, 'USE_SIGMOID_CE': False, 'FED_LOSS_FREQ_WEIGHT_POWER': 0.5, 'FED_LOSS_NUM_CLASSES': 50}), 'ROI_BOX_CASCADE_HEAD': CfgNode({'BBOX_REG_WEIGHTS': ((10.0, 10.0, 5.0, 5.0), (20.0, 20.0, 10.0, 10.0), (30.0, 30.0, 15.0, 15.0)), 'IOUS': (0.5, 0.6, 0.7)}), 'ROI_MASK_HEAD': CfgNode({'NAME': 'MaskRCNNConvUpsampleHead', 'POOLER_RESOLUTION': 14, 'POOLER_SAMPLING_RATIO': 0, 'NUM_CONV': 0, 'CONV_DIM': 256, 'NORM': '', 'CLS_AGNOSTIC_MASK': False, 'POOLER_TYPE': 'ROIAlignV2'}), 'ROI_KEYPOINT_HEAD': CfgNode({'NAME': 'KRCNNConvDeconvUpsampleHead', 'POOLER_RESOLUTION': 14, 'POOLER_SAMPLING_RATIO': 0, 'CONV_DIMS': (512, 512, 512, 512, 512, 512, 512, 512), 'NUM_KEYPOINTS': 17, 'MIN_KEYPOINTS_PER_IMAGE': 1, 'NORMALIZE_LOSS_BY_VISIBLE_KEYPOINTS': True, 'LOSS_WEIGHT': 1.0, 'POOLER_TYPE': 'ROIAlignV2'}), 'SEM_SEG_HEAD': CfgNode({'NAME': 'SemSegFPNHead', 'IN_FEATURES': ['p2', 'p3', 'p4', 'p5'], 'IGNORE_VALUE': 255, 'NUM_CLASSES': 54, 'CONVS_DIM': 128, 'COMMON_STRIDE': 4, 'NORM': 'GN', 'LOSS_WEIGHT': 1.0}), 'PANOPTIC_FPN': CfgNode({'INSTANCE_LOSS_WEIGHT': 1.0, 'COMBINE': CfgNode({'ENABLED': True, 'OVERLAP_THRESH': 0.5, 'STUFF_AREA_LIMIT': 4096, 'INSTANCES_CONFIDENCE_THRESH': 0.5})}), 'RETINANET': CfgNode({'NUM_CLASSES': 80, 'IN_FEATURES': ['p3', 'p4', 'p5', 'p6', 'p7'], 'NUM_CONVS': 4, 'IOU_THRESHOLDS': [0.4, 0.5], 'IOU_LABELS': [0, -1, 1], 'PRIOR_PROB': 0.01, 'SCORE_THRESH_TEST': 0.05, 'TOPK_CANDIDATES_TEST': 1000, 'NMS_THRESH_TEST': 0.5, 'BBOX_REG_WEIGHTS': (1.0, 1.0, 1.0, 1.0), 'FOCAL_LOSS_GAMMA': 2.0, 'FOCAL_LOSS_ALPHA': 0.25, 'SMOOTH_L1_LOSS_BETA': 0.1, 'BBOX_REG_LOSS_TYPE': 'smooth_l1', 'NORM': ''}), 'RESNETS': CfgNode({'DEPTH': 50, 'OUT_FEATURES': ['res4'], 'NUM_GROUPS': 1, 'NORM': 'FrozenBN', 'WIDTH_PER_GROUP': 64, 'STRIDE_IN_1X1': True, 'RES5_DILATION': 1, 'RES2_OUT_CHANNELS': 256, 'STEM_OUT_CHANNELS': 64, 'DEFORM_ON_PER_STAGE': [False, False, False, False], 'DEFORM_MODULATED': False, 'DEFORM_NUM_GROUPS': 1})}), 'INPUT': CfgNode({'MIN_SIZE_TRAIN': (800,), 'MIN_SIZE_TRAIN_SAMPLING': 'choice', 'MAX_SIZE_TRAIN': 1333, 'MIN_SIZE_TEST': 800, 'MAX_SIZE_TEST': 1333, 'RANDOM_FLIP': 'horizontal', 'CROP': CfgNode({'ENABLED': False, 'TYPE': 'relative_range', 'SIZE': [0.9, 0.9]}), 'FORMAT': 'BGR', 'MASK_FORMAT': 'polygon'}), 'DATASETS': CfgNode({'TRAIN': (), 'PROPOSAL_FILES_TRAIN': (), 'PRECOMPUTED_PROPOSAL_TOPK_TRAIN': 2000, 'TEST': (), 'PROPOSAL_FILES_TEST': (), 'PRECOMPUTED_PROPOSAL_TOPK_TEST': 1000}), 'DATALOADER': CfgNode({'NUM_WORKERS': 4, 'ASPECT_RATIO_GROUPING': True, 'SAMPLER_TRAIN': 'TrainingSampler', 'REPEAT_THRESHOLD': 0.0, 'REPEAT_SQRT': True, 'FILTER_EMPTY_ANNOTATIONS': True}), 'SOLVER': CfgNode({'LR_SCHEDULER_NAME': 'WarmupMultiStepLR', 'MAX_ITER': 40000, 'BASE_LR': 0.001, 'BASE_LR_END': 0.0, 'MOMENTUM': 0.9, 'NESTEROV': False, 'WEIGHT_DECAY': 0.0001, 'WEIGHT_DECAY_NORM': 0.0, 'GAMMA': 0.1, 'STEPS': (30000,), 'NUM_DECAYS': 3, 'WARMUP_FACTOR': 0.001, 'WARMUP_ITERS': 1000, 'WARMUP_METHOD': 'linear', 'RESCALE_INTERVAL': False, 'CHECKPOINT_PERIOD': 5000, 'IMS_PER_BATCH': 16, 'REFERENCE_WORLD_SIZE': 0, 'BIAS_LR_FACTOR': 1.0, 'WEIGHT_DECAY_BIAS': None, 'CLIP_GRADIENTS': CfgNode({'ENABLED': False, 'CLIP_TYPE': 'value', 'CLIP_VALUE': 1.0, 'NORM_TYPE': 2.0}), 'AMP': CfgNode({'ENABLED': False})}), 'TEST': CfgNode({'EXPECTED_RESULTS': [], 'EVAL_PERIOD': 0, 'KEYPOINT_OKS_SIGMAS': [], 'DETECTIONS_PER_IMAGE': 100, 'AUG': CfgNode({'ENABLED': False, 'MIN_SIZES': (400, 500, 600, 700, 800, 900, 1000, 1100, 1200), 'MAX_SIZE': 4000, 'FLIP': True}), 'PRECISE_BN': CfgNode({'ENABLED': False, 'NUM_ITER': 200})}), 'OUTPUT_DIR': './output', 'SEED': -1, 'CUDNN_BENCHMARK': False, 'VIS_PERIOD': 0, 'GLOBAL': CfgNode({'HACK': 1.0})})"
      ]
     },
     "execution_count": 6,
     "metadata": {},
     "output_type": "execute_result"
    }
   ],
   "source": [
    "cfg = get_cfg()\n",
    "cfg"
   ]
  },
  {
   "cell_type": "markdown",
   "metadata": {},
   "source": [
    "### Setting Up dataset"
   ]
  },
  {
   "cell_type": "code",
   "execution_count": 7,
   "metadata": {},
   "outputs": [],
   "source": [
    "# from detectron2.structures import BoxMode\n",
    "\n",
    "# def create_lightdata_for_instance_seg(img_dir, json_file):\n",
    "#     # load image\n",
    "#     img = cv2.imread(img_dir)\n",
    "#     height, width = img.shape[:2]\n",
    "    \n",
    "#     # load json file\n",
    "    \n",
    "# for d in [\"train\", \"val\"]:\n",
    "#     DatasetCatalog.register(\"balloon_\" + d, lambda d=d: get_balloon_dicts(\"balloon/\" + d))\n",
    "#     MetadataCatalog.get(\"balloon_\" + d).set(thing_classes=[\"balloon\"])\n",
    "# balloon_metadata = MetadataCatalog.get(\"balloon_train\")"
   ]
  },
  {
   "cell_type": "code",
   "execution_count": 5,
   "metadata": {},
   "outputs": [],
   "source": [
    "# add project-specific config (e.g., TensorMask) here if you're not running a model in detectron2's core library\n",
    "cfg.merge_from_file(model_zoo.get_config_file(\"COCO-InstanceSegmentation/mask_rcnn_R_50_FPN_3x.yaml\"))\n",
    "cfg.MODEL.ROI_HEADS.SCORE_THRESH_TEST = 0.5  # set threshold for this model\n",
    "# Find a model from detectron2's model zoo. You can use the https://dl.fbaipublicfiles... url as well\n",
    "cfg.MODEL.WEIGHTS = model_zoo.get_checkpoint_url(\"COCO-InstanceSegmentation/mask_rcnn_R_50_FPN_3x.yaml\")\n",
    "# predictor = DefaultPredictor(cfg)\n",
    "# outputs = predictor(im)"
   ]
  },
  {
   "cell_type": "code",
   "execution_count": 9,
   "metadata": {},
   "outputs": [
    {
     "name": "stdout",
     "output_type": "stream",
     "text": [
      "ANCHOR_GENERATOR:\n",
      "  ANGLES: [[-90, 0, 90]]\n",
      "  ASPECT_RATIOS: [[0.5, 1.0, 2.0]]\n",
      "  NAME: DefaultAnchorGenerator\n",
      "  OFFSET: 0.0\n",
      "  SIZES: [[32], [64], [128], [256], [512]]\n",
      "BACKBONE:\n",
      "  FREEZE_AT: 2\n",
      "  NAME: build_resnet_fpn_backbone\n",
      "DEVICE: cuda\n",
      "FPN:\n",
      "  FUSE_TYPE: sum\n",
      "  IN_FEATURES: ['res2', 'res3', 'res4', 'res5']\n",
      "  NORM: \n",
      "  OUT_CHANNELS: 256\n",
      "KEYPOINT_ON: False\n",
      "LOAD_PROPOSALS: False\n",
      "MASK_ON: True\n",
      "META_ARCHITECTURE: GeneralizedRCNN\n",
      "PANOPTIC_FPN:\n",
      "  COMBINE:\n",
      "    ENABLED: True\n",
      "    INSTANCES_CONFIDENCE_THRESH: 0.5\n",
      "    OVERLAP_THRESH: 0.5\n",
      "    STUFF_AREA_LIMIT: 4096\n",
      "  INSTANCE_LOSS_WEIGHT: 1.0\n",
      "PIXEL_MEAN: [103.53, 116.28, 123.675]\n",
      "PIXEL_STD: [1.0, 1.0, 1.0]\n",
      "PROPOSAL_GENERATOR:\n",
      "  MIN_SIZE: 0\n",
      "  NAME: RPN\n",
      "RESNETS:\n",
      "  DEFORM_MODULATED: False\n",
      "  DEFORM_NUM_GROUPS: 1\n",
      "  DEFORM_ON_PER_STAGE: [False, False, False, False]\n",
      "  DEPTH: 50\n",
      "  NORM: FrozenBN\n",
      "  NUM_GROUPS: 1\n",
      "  OUT_FEATURES: ['res2', 'res3', 'res4', 'res5']\n",
      "  RES2_OUT_CHANNELS: 256\n",
      "  RES5_DILATION: 1\n",
      "  STEM_OUT_CHANNELS: 64\n",
      "  STRIDE_IN_1X1: True\n",
      "  WIDTH_PER_GROUP: 64\n",
      "RETINANET:\n",
      "  BBOX_REG_LOSS_TYPE: smooth_l1\n",
      "  BBOX_REG_WEIGHTS: (1.0, 1.0, 1.0, 1.0)\n",
      "  FOCAL_LOSS_ALPHA: 0.25\n",
      "  FOCAL_LOSS_GAMMA: 2.0\n",
      "  IN_FEATURES: ['p3', 'p4', 'p5', 'p6', 'p7']\n",
      "  IOU_LABELS: [0, -1, 1]\n",
      "  IOU_THRESHOLDS: [0.4, 0.5]\n",
      "  NMS_THRESH_TEST: 0.5\n",
      "  NORM: \n",
      "  NUM_CLASSES: 80\n",
      "  NUM_CONVS: 4\n",
      "  PRIOR_PROB: 0.01\n",
      "  SCORE_THRESH_TEST: 0.05\n",
      "  SMOOTH_L1_LOSS_BETA: 0.1\n",
      "  TOPK_CANDIDATES_TEST: 1000\n",
      "ROI_BOX_CASCADE_HEAD:\n",
      "  BBOX_REG_WEIGHTS: ((10.0, 10.0, 5.0, 5.0), (20.0, 20.0, 10.0, 10.0), (30.0, 30.0, 15.0, 15.0))\n",
      "  IOUS: (0.5, 0.6, 0.7)\n",
      "ROI_BOX_HEAD:\n",
      "  BBOX_REG_LOSS_TYPE: smooth_l1\n",
      "  BBOX_REG_LOSS_WEIGHT: 1.0\n",
      "  BBOX_REG_WEIGHTS: (10.0, 10.0, 5.0, 5.0)\n",
      "  CLS_AGNOSTIC_BBOX_REG: False\n",
      "  CONV_DIM: 256\n",
      "  FC_DIM: 1024\n",
      "  FED_LOSS_FREQ_WEIGHT_POWER: 0.5\n",
      "  FED_LOSS_NUM_CLASSES: 50\n",
      "  NAME: FastRCNNConvFCHead\n",
      "  NORM: \n",
      "  NUM_CONV: 0\n",
      "  NUM_FC: 2\n",
      "  POOLER_RESOLUTION: 7\n",
      "  POOLER_SAMPLING_RATIO: 0\n",
      "  POOLER_TYPE: ROIAlignV2\n",
      "  SMOOTH_L1_BETA: 0.0\n",
      "  TRAIN_ON_PRED_BOXES: False\n",
      "  USE_FED_LOSS: False\n",
      "  USE_SIGMOID_CE: False\n",
      "ROI_HEADS:\n",
      "  BATCH_SIZE_PER_IMAGE: 512\n",
      "  IN_FEATURES: ['p2', 'p3', 'p4', 'p5']\n",
      "  IOU_LABELS: [0, 1]\n",
      "  IOU_THRESHOLDS: [0.5]\n",
      "  NAME: StandardROIHeads\n",
      "  NMS_THRESH_TEST: 0.5\n",
      "  NUM_CLASSES: 80\n",
      "  POSITIVE_FRACTION: 0.25\n",
      "  PROPOSAL_APPEND_GT: True\n",
      "  SCORE_THRESH_TEST: 0.5\n",
      "ROI_KEYPOINT_HEAD:\n",
      "  CONV_DIMS: (512, 512, 512, 512, 512, 512, 512, 512)\n",
      "  LOSS_WEIGHT: 1.0\n",
      "  MIN_KEYPOINTS_PER_IMAGE: 1\n",
      "  NAME: KRCNNConvDeconvUpsampleHead\n",
      "  NORMALIZE_LOSS_BY_VISIBLE_KEYPOINTS: True\n",
      "  NUM_KEYPOINTS: 17\n",
      "  POOLER_RESOLUTION: 14\n",
      "  POOLER_SAMPLING_RATIO: 0\n",
      "  POOLER_TYPE: ROIAlignV2\n",
      "ROI_MASK_HEAD:\n",
      "  CLS_AGNOSTIC_MASK: False\n",
      "  CONV_DIM: 256\n",
      "  NAME: MaskRCNNConvUpsampleHead\n",
      "  NORM: \n",
      "  NUM_CONV: 4\n",
      "  POOLER_RESOLUTION: 14\n",
      "  POOLER_SAMPLING_RATIO: 0\n",
      "  POOLER_TYPE: ROIAlignV2\n",
      "RPN:\n",
      "  BATCH_SIZE_PER_IMAGE: 256\n",
      "  BBOX_REG_LOSS_TYPE: smooth_l1\n",
      "  BBOX_REG_LOSS_WEIGHT: 1.0\n",
      "  BBOX_REG_WEIGHTS: (1.0, 1.0, 1.0, 1.0)\n",
      "  BOUNDARY_THRESH: -1\n",
      "  CONV_DIMS: [-1]\n",
      "  HEAD_NAME: StandardRPNHead\n",
      "  IN_FEATURES: ['p2', 'p3', 'p4', 'p5', 'p6']\n",
      "  IOU_LABELS: [0, -1, 1]\n",
      "  IOU_THRESHOLDS: [0.3, 0.7]\n",
      "  LOSS_WEIGHT: 1.0\n",
      "  NMS_THRESH: 0.7\n",
      "  POSITIVE_FRACTION: 0.5\n",
      "  POST_NMS_TOPK_TEST: 1000\n",
      "  POST_NMS_TOPK_TRAIN: 1000\n",
      "  PRE_NMS_TOPK_TEST: 1000\n",
      "  PRE_NMS_TOPK_TRAIN: 2000\n",
      "  SMOOTH_L1_BETA: 0.0\n",
      "SEM_SEG_HEAD:\n",
      "  COMMON_STRIDE: 4\n",
      "  CONVS_DIM: 128\n",
      "  IGNORE_VALUE: 255\n",
      "  IN_FEATURES: ['p2', 'p3', 'p4', 'p5']\n",
      "  LOSS_WEIGHT: 1.0\n",
      "  NAME: SemSegFPNHead\n",
      "  NORM: GN\n",
      "  NUM_CLASSES: 54\n",
      "WEIGHTS: https://dl.fbaipublicfiles.com/detectron2/COCO-InstanceSegmentation/mask_rcnn_R_50_FPN_3x/137849600/model_final_f10217.pkl\n"
     ]
    }
   ],
   "source": [
    "print(cfg.MODEL)  # This will show you the FPN-related parameters\n"
   ]
  }
 ],
 "metadata": {
  "kernelspec": {
   "display_name": "computer-vision-d9NbPVUF-py3.10",
   "language": "python",
   "name": "python3"
  },
  "language_info": {
   "codemirror_mode": {
    "name": "ipython",
    "version": 3
   },
   "file_extension": ".py",
   "mimetype": "text/x-python",
   "name": "python",
   "nbconvert_exporter": "python",
   "pygments_lexer": "ipython3",
   "version": "3.10.12"
  }
 },
 "nbformat": 4,
 "nbformat_minor": 2
}
