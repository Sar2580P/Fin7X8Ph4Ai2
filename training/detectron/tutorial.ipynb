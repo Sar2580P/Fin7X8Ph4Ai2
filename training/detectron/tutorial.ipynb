{
 "cells": [
  {
   "cell_type": "code",
   "execution_count": 4,
   "metadata": {},
   "outputs": [
    {
     "data": {
      "text/plain": [
       "['/home/sarvagya/computer_vision',\n",
       " '/home/sarvagya/detectron2',\n",
       " '/usr/lib/python310.zip',\n",
       " '/usr/lib/python3.10',\n",
       " '/usr/lib/python3.10/lib-dynload',\n",
       " '',\n",
       " '/home/sarvagya/.cache/pypoetry/virtualenvs/computer-vision-d9NbPVUF-py3.10/lib/python3.10/site-packages']"
      ]
     },
     "execution_count": 4,
     "metadata": {},
     "output_type": "execute_result"
    }
   ],
   "source": [
    "import os, sys\n",
    "os.chdir('../../..')\n",
    "os.getcwd()\n",
    "sys.path.insert(0, os.path.join(os.getcwd(), 'detectron2'))\n",
    "sys.path.insert(0, os.path.join(os.getcwd(), 'computer_vision'))\n",
    "\n",
    "sys.path"
   ]
  },
  {
   "cell_type": "markdown",
   "metadata": {},
   "source": [
    "### Setup"
   ]
  },
  {
   "cell_type": "code",
   "execution_count": 2,
   "metadata": {},
   "outputs": [],
   "source": [
    "import sys, os, distutils.core\n",
    "\n",
    "# # Note: This is a faster way to install detectron2 in Colab, but it does not include all functionalities (e.g. compiled operators).\n",
    "# # See https://detectron2.readthedocs.io/tutorials/install.html for full installation instructions\n",
    "# !git clone 'https://github.com/facebookresearch/detectron2' \n",
    "# dist = distutils.core.run_setup(\"detectron2/setup.py\")\n",
    "# !python -m pip install {' '.join([f\"'{x}'\" for x in dist.install_requires])}\n",
    "\n"
   ]
  },
  {
   "cell_type": "markdown",
   "metadata": {},
   "source": [
    "### Imports"
   ]
  },
  {
   "cell_type": "code",
   "execution_count": 5,
   "metadata": {},
   "outputs": [
    {
     "name": "stderr",
     "output_type": "stream",
     "text": [
      "/home/sarvagya/.cache/pypoetry/virtualenvs/computer-vision-d9NbPVUF-py3.10/lib/python3.10/site-packages/tqdm/auto.py:21: TqdmWarning: IProgress not found. Please update jupyter and ipywidgets. See https://ipywidgets.readthedocs.io/en/stable/user_install.html\n",
      "  from .autonotebook import tqdm as notebook_tqdm\n"
     ]
    }
   ],
   "source": [
    "# Some basic setup:\n",
    "# Setup detectron2 logger\n",
    "# import detectron2\n",
    "from detectron2.utils.logger import setup_logger\n",
    "setup_logger()\n",
    "\n",
    "# import some common libraries\n",
    "import numpy as np\n",
    "import os, json, cv2, random\n",
    "# from google.colab.patches import cv2_imshow\n",
    "\n",
    "# import some common detectron2 utilities\n",
    "from detectron2 import model_zoo\n",
    "from detectron2.engine import DefaultPredictor\n",
    "from detectron2.config import get_cfg\n",
    "from detectron2.utils.visualizer import Visualizer\n",
    "from detectron2.data import MetadataCatalog, DatasetCatalog"
   ]
  },
  {
   "cell_type": "code",
   "execution_count": 6,
   "metadata": {},
   "outputs": [
    {
     "data": {
      "text/plain": [
       "CfgNode({'VERSION': 2, 'MODEL': CfgNode({'LOAD_PROPOSALS': False, 'MASK_ON': False, 'KEYPOINT_ON': False, 'DEVICE': 'cuda', 'META_ARCHITECTURE': 'GeneralizedRCNN', 'WEIGHTS': '', 'PIXEL_MEAN': [103.53, 116.28, 123.675], 'PIXEL_STD': [1.0, 1.0, 1.0], 'BACKBONE': CfgNode({'NAME': 'build_resnet_backbone', 'FREEZE_AT': 2}), 'FPN': CfgNode({'IN_FEATURES': [], 'OUT_CHANNELS': 256, 'NORM': '', 'FUSE_TYPE': 'sum'}), 'PROPOSAL_GENERATOR': CfgNode({'NAME': 'RPN', 'MIN_SIZE': 0}), 'ANCHOR_GENERATOR': CfgNode({'NAME': 'DefaultAnchorGenerator', 'SIZES': [[32, 64, 128, 256, 512]], 'ASPECT_RATIOS': [[0.5, 1.0, 2.0]], 'ANGLES': [[-90, 0, 90]], 'OFFSET': 0.0}), 'RPN': CfgNode({'HEAD_NAME': 'StandardRPNHead', 'IN_FEATURES': ['res4'], 'BOUNDARY_THRESH': -1, 'IOU_THRESHOLDS': [0.3, 0.7], 'IOU_LABELS': [0, -1, 1], 'BATCH_SIZE_PER_IMAGE': 256, 'POSITIVE_FRACTION': 0.5, 'BBOX_REG_LOSS_TYPE': 'smooth_l1', 'BBOX_REG_LOSS_WEIGHT': 1.0, 'BBOX_REG_WEIGHTS': (1.0, 1.0, 1.0, 1.0), 'SMOOTH_L1_BETA': 0.0, 'LOSS_WEIGHT': 1.0, 'PRE_NMS_TOPK_TRAIN': 12000, 'PRE_NMS_TOPK_TEST': 6000, 'POST_NMS_TOPK_TRAIN': 2000, 'POST_NMS_TOPK_TEST': 1000, 'NMS_THRESH': 0.7, 'CONV_DIMS': [-1]}), 'ROI_HEADS': CfgNode({'NAME': 'Res5ROIHeads', 'NUM_CLASSES': 80, 'IN_FEATURES': ['res4'], 'IOU_THRESHOLDS': [0.5], 'IOU_LABELS': [0, 1], 'BATCH_SIZE_PER_IMAGE': 512, 'POSITIVE_FRACTION': 0.25, 'SCORE_THRESH_TEST': 0.05, 'NMS_THRESH_TEST': 0.5, 'PROPOSAL_APPEND_GT': True}), 'ROI_BOX_HEAD': CfgNode({'NAME': '', 'BBOX_REG_LOSS_TYPE': 'smooth_l1', 'BBOX_REG_LOSS_WEIGHT': 1.0, 'BBOX_REG_WEIGHTS': (10.0, 10.0, 5.0, 5.0), 'SMOOTH_L1_BETA': 0.0, 'POOLER_RESOLUTION': 14, 'POOLER_SAMPLING_RATIO': 0, 'POOLER_TYPE': 'ROIAlignV2', 'NUM_FC': 0, 'FC_DIM': 1024, 'NUM_CONV': 0, 'CONV_DIM': 256, 'NORM': '', 'CLS_AGNOSTIC_BBOX_REG': False, 'TRAIN_ON_PRED_BOXES': False, 'USE_FED_LOSS': False, 'USE_SIGMOID_CE': False, 'FED_LOSS_FREQ_WEIGHT_POWER': 0.5, 'FED_LOSS_NUM_CLASSES': 50}), 'ROI_BOX_CASCADE_HEAD': CfgNode({'BBOX_REG_WEIGHTS': ((10.0, 10.0, 5.0, 5.0), (20.0, 20.0, 10.0, 10.0), (30.0, 30.0, 15.0, 15.0)), 'IOUS': (0.5, 0.6, 0.7)}), 'ROI_MASK_HEAD': CfgNode({'NAME': 'MaskRCNNConvUpsampleHead', 'POOLER_RESOLUTION': 14, 'POOLER_SAMPLING_RATIO': 0, 'NUM_CONV': 0, 'CONV_DIM': 256, 'NORM': '', 'CLS_AGNOSTIC_MASK': False, 'POOLER_TYPE': 'ROIAlignV2'}), 'ROI_KEYPOINT_HEAD': CfgNode({'NAME': 'KRCNNConvDeconvUpsampleHead', 'POOLER_RESOLUTION': 14, 'POOLER_SAMPLING_RATIO': 0, 'CONV_DIMS': (512, 512, 512, 512, 512, 512, 512, 512), 'NUM_KEYPOINTS': 17, 'MIN_KEYPOINTS_PER_IMAGE': 1, 'NORMALIZE_LOSS_BY_VISIBLE_KEYPOINTS': True, 'LOSS_WEIGHT': 1.0, 'POOLER_TYPE': 'ROIAlignV2'}), 'SEM_SEG_HEAD': CfgNode({'NAME': 'SemSegFPNHead', 'IN_FEATURES': ['p2', 'p3', 'p4', 'p5'], 'IGNORE_VALUE': 255, 'NUM_CLASSES': 54, 'CONVS_DIM': 128, 'COMMON_STRIDE': 4, 'NORM': 'GN', 'LOSS_WEIGHT': 1.0}), 'PANOPTIC_FPN': CfgNode({'INSTANCE_LOSS_WEIGHT': 1.0, 'COMBINE': CfgNode({'ENABLED': True, 'OVERLAP_THRESH': 0.5, 'STUFF_AREA_LIMIT': 4096, 'INSTANCES_CONFIDENCE_THRESH': 0.5})}), 'RETINANET': CfgNode({'NUM_CLASSES': 80, 'IN_FEATURES': ['p3', 'p4', 'p5', 'p6', 'p7'], 'NUM_CONVS': 4, 'IOU_THRESHOLDS': [0.4, 0.5], 'IOU_LABELS': [0, -1, 1], 'PRIOR_PROB': 0.01, 'SCORE_THRESH_TEST': 0.05, 'TOPK_CANDIDATES_TEST': 1000, 'NMS_THRESH_TEST': 0.5, 'BBOX_REG_WEIGHTS': (1.0, 1.0, 1.0, 1.0), 'FOCAL_LOSS_GAMMA': 2.0, 'FOCAL_LOSS_ALPHA': 0.25, 'SMOOTH_L1_LOSS_BETA': 0.1, 'BBOX_REG_LOSS_TYPE': 'smooth_l1', 'NORM': ''}), 'RESNETS': CfgNode({'DEPTH': 50, 'OUT_FEATURES': ['res4'], 'NUM_GROUPS': 1, 'NORM': 'FrozenBN', 'WIDTH_PER_GROUP': 64, 'STRIDE_IN_1X1': True, 'RES5_DILATION': 1, 'RES2_OUT_CHANNELS': 256, 'STEM_OUT_CHANNELS': 64, 'DEFORM_ON_PER_STAGE': [False, False, False, False], 'DEFORM_MODULATED': False, 'DEFORM_NUM_GROUPS': 1})}), 'INPUT': CfgNode({'MIN_SIZE_TRAIN': (800,), 'MIN_SIZE_TRAIN_SAMPLING': 'choice', 'MAX_SIZE_TRAIN': 1333, 'MIN_SIZE_TEST': 800, 'MAX_SIZE_TEST': 1333, 'RANDOM_FLIP': 'horizontal', 'CROP': CfgNode({'ENABLED': False, 'TYPE': 'relative_range', 'SIZE': [0.9, 0.9]}), 'FORMAT': 'BGR', 'MASK_FORMAT': 'polygon'}), 'DATASETS': CfgNode({'TRAIN': (), 'PROPOSAL_FILES_TRAIN': (), 'PRECOMPUTED_PROPOSAL_TOPK_TRAIN': 2000, 'TEST': (), 'PROPOSAL_FILES_TEST': (), 'PRECOMPUTED_PROPOSAL_TOPK_TEST': 1000}), 'DATALOADER': CfgNode({'NUM_WORKERS': 4, 'ASPECT_RATIO_GROUPING': True, 'SAMPLER_TRAIN': 'TrainingSampler', 'REPEAT_THRESHOLD': 0.0, 'REPEAT_SQRT': True, 'FILTER_EMPTY_ANNOTATIONS': True}), 'SOLVER': CfgNode({'LR_SCHEDULER_NAME': 'WarmupMultiStepLR', 'MAX_ITER': 40000, 'BASE_LR': 0.001, 'BASE_LR_END': 0.0, 'MOMENTUM': 0.9, 'NESTEROV': False, 'WEIGHT_DECAY': 0.0001, 'WEIGHT_DECAY_NORM': 0.0, 'GAMMA': 0.1, 'STEPS': (30000,), 'NUM_DECAYS': 3, 'WARMUP_FACTOR': 0.001, 'WARMUP_ITERS': 1000, 'WARMUP_METHOD': 'linear', 'RESCALE_INTERVAL': False, 'CHECKPOINT_PERIOD': 5000, 'IMS_PER_BATCH': 16, 'REFERENCE_WORLD_SIZE': 0, 'BIAS_LR_FACTOR': 1.0, 'WEIGHT_DECAY_BIAS': None, 'CLIP_GRADIENTS': CfgNode({'ENABLED': False, 'CLIP_TYPE': 'value', 'CLIP_VALUE': 1.0, 'NORM_TYPE': 2.0}), 'AMP': CfgNode({'ENABLED': False})}), 'TEST': CfgNode({'EXPECTED_RESULTS': [], 'EVAL_PERIOD': 0, 'KEYPOINT_OKS_SIGMAS': [], 'DETECTIONS_PER_IMAGE': 100, 'AUG': CfgNode({'ENABLED': False, 'MIN_SIZES': (400, 500, 600, 700, 800, 900, 1000, 1100, 1200), 'MAX_SIZE': 4000, 'FLIP': True}), 'PRECISE_BN': CfgNode({'ENABLED': False, 'NUM_ITER': 200})}), 'OUTPUT_DIR': './output', 'SEED': -1, 'CUDNN_BENCHMARK': False, 'VIS_PERIOD': 0, 'GLOBAL': CfgNode({'HACK': 1.0})})"
      ]
     },
     "execution_count": 6,
     "metadata": {},
     "output_type": "execute_result"
    }
   ],
   "source": [
    "cfg = get_cfg()\n",
    "cfg"
   ]
  },
  {
   "cell_type": "markdown",
   "metadata": {},
   "source": [
    "### Setting Up dataset"
   ]
  },
  {
   "cell_type": "code",
   "execution_count": 7,
   "metadata": {},
   "outputs": [],
   "source": [
    "# from detectron2.structures import BoxMode\n",
    "\n",
    "# def create_lightdata_for_instance_seg(img_dir, json_file):\n",
    "#     # load image\n",
    "#     img = cv2.imread(img_dir)\n",
    "#     height, width = img.shape[:2]\n",
    "    \n",
    "#     # load json file\n",
    "    \n",
    "# for d in [\"train\", \"val\"]:\n",
    "#     DatasetCatalog.register(\"balloon_\" + d, lambda d=d: get_balloon_dicts(\"balloon/\" + d))\n",
    "#     MetadataCatalog.get(\"balloon_\" + d).set(thing_classes=[\"balloon\"])\n",
    "# balloon_metadata = MetadataCatalog.get(\"balloon_train\")"
   ]
  },
  {
   "cell_type": "code",
   "execution_count": 5,
   "metadata": {},
   "outputs": [],
   "source": [
    "# add project-specific config (e.g., TensorMask) here if you're not running a model in detectron2's core library\n",
    "cfg.merge_from_file(model_zoo.get_config_file(\"COCO-InstanceSegmentation/mask_rcnn_R_50_FPN_3x.yaml\"))\n",
    "cfg.MODEL.ROI_HEADS.SCORE_THRESH_TEST = 0.5  # set threshold for this model\n",
    "# Find a model from detectron2's model zoo. You can use the https://dl.fbaipublicfiles... url as well\n",
    "cfg.MODEL.WEIGHTS = model_zoo.get_checkpoint_url(\"COCO-InstanceSegmentation/mask_rcnn_R_50_FPN_3x.yaml\")\n",
    "# predictor = DefaultPredictor(cfg)\n",
    "# outputs = predictor(im)"
   ]
  },
  {
   "cell_type": "code",
   "execution_count": 9,
   "metadata": {},
   "outputs": [
    {
     "name": "stdout",
     "output_type": "stream",
     "text": [
      "ANCHOR_GENERATOR:\n",
      "  ANGLES: [[-90, 0, 90]]\n",
      "  ASPECT_RATIOS: [[0.5, 1.0, 2.0]]\n",
      "  NAME: DefaultAnchorGenerator\n",
      "  OFFSET: 0.0\n",
      "  SIZES: [[32], [64], [128], [256], [512]]\n",
      "BACKBONE:\n",
      "  FREEZE_AT: 2\n",
      "  NAME: build_resnet_fpn_backbone\n",
      "DEVICE: cuda\n",
      "FPN:\n",
      "  FUSE_TYPE: sum\n",
      "  IN_FEATURES: ['res2', 'res3', 'res4', 'res5']\n",
      "  NORM: \n",
      "  OUT_CHANNELS: 256\n",
      "KEYPOINT_ON: False\n",
      "LOAD_PROPOSALS: False\n",
      "MASK_ON: True\n",
      "META_ARCHITECTURE: GeneralizedRCNN\n",
      "PANOPTIC_FPN:\n",
      "  COMBINE:\n",
      "    ENABLED: True\n",
      "    INSTANCES_CONFIDENCE_THRESH: 0.5\n",
      "    OVERLAP_THRESH: 0.5\n",
      "    STUFF_AREA_LIMIT: 4096\n",
      "  INSTANCE_LOSS_WEIGHT: 1.0\n",
      "PIXEL_MEAN: [103.53, 116.28, 123.675]\n",
      "PIXEL_STD: [1.0, 1.0, 1.0]\n",
      "PROPOSAL_GENERATOR:\n",
      "  MIN_SIZE: 0\n",
      "  NAME: RPN\n",
      "RESNETS:\n",
      "  DEFORM_MODULATED: False\n",
      "  DEFORM_NUM_GROUPS: 1\n",
      "  DEFORM_ON_PER_STAGE: [False, False, False, False]\n",
      "  DEPTH: 50\n",
      "  NORM: FrozenBN\n",
      "  NUM_GROUPS: 1\n",
      "  OUT_FEATURES: ['res2', 'res3', 'res4', 'res5']\n",
      "  RES2_OUT_CHANNELS: 256\n",
      "  RES5_DILATION: 1\n",
      "  STEM_OUT_CHANNELS: 64\n",
      "  STRIDE_IN_1X1: True\n",
      "  WIDTH_PER_GROUP: 64\n",
      "RETINANET:\n",
      "  BBOX_REG_LOSS_TYPE: smooth_l1\n",
      "  BBOX_REG_WEIGHTS: (1.0, 1.0, 1.0, 1.0)\n",
      "  FOCAL_LOSS_ALPHA: 0.25\n",
      "  FOCAL_LOSS_GAMMA: 2.0\n",
      "  IN_FEATURES: ['p3', 'p4', 'p5', 'p6', 'p7']\n",
      "  IOU_LABELS: [0, -1, 1]\n",
      "  IOU_THRESHOLDS: [0.4, 0.5]\n",
      "  NMS_THRESH_TEST: 0.5\n",
      "  NORM: \n",
      "  NUM_CLASSES: 80\n",
      "  NUM_CONVS: 4\n",
      "  PRIOR_PROB: 0.01\n",
      "  SCORE_THRESH_TEST: 0.05\n",
      "  SMOOTH_L1_LOSS_BETA: 0.1\n",
      "  TOPK_CANDIDATES_TEST: 1000\n",
      "ROI_BOX_CASCADE_HEAD:\n",
      "  BBOX_REG_WEIGHTS: ((10.0, 10.0, 5.0, 5.0), (20.0, 20.0, 10.0, 10.0), (30.0, 30.0, 15.0, 15.0))\n",
      "  IOUS: (0.5, 0.6, 0.7)\n",
      "ROI_BOX_HEAD:\n",
      "  BBOX_REG_LOSS_TYPE: smooth_l1\n",
      "  BBOX_REG_LOSS_WEIGHT: 1.0\n",
      "  BBOX_REG_WEIGHTS: (10.0, 10.0, 5.0, 5.0)\n",
      "  CLS_AGNOSTIC_BBOX_REG: False\n",
      "  CONV_DIM: 256\n",
      "  FC_DIM: 1024\n",
      "  FED_LOSS_FREQ_WEIGHT_POWER: 0.5\n",
      "  FED_LOSS_NUM_CLASSES: 50\n",
      "  NAME: FastRCNNConvFCHead\n",
      "  NORM: \n",
      "  NUM_CONV: 0\n",
      "  NUM_FC: 2\n",
      "  POOLER_RESOLUTION: 7\n",
      "  POOLER_SAMPLING_RATIO: 0\n",
      "  POOLER_TYPE: ROIAlignV2\n",
      "  SMOOTH_L1_BETA: 0.0\n",
      "  TRAIN_ON_PRED_BOXES: False\n",
      "  USE_FED_LOSS: False\n",
      "  USE_SIGMOID_CE: False\n",
      "ROI_HEADS:\n",
      "  BATCH_SIZE_PER_IMAGE: 512\n",
      "  IN_FEATURES: ['p2', 'p3', 'p4', 'p5']\n",
      "  IOU_LABELS: [0, 1]\n",
      "  IOU_THRESHOLDS: [0.5]\n",
      "  NAME: StandardROIHeads\n",
      "  NMS_THRESH_TEST: 0.5\n",
      "  NUM_CLASSES: 80\n",
      "  POSITIVE_FRACTION: 0.25\n",
      "  PROPOSAL_APPEND_GT: True\n",
      "  SCORE_THRESH_TEST: 0.5\n",
      "ROI_KEYPOINT_HEAD:\n",
      "  CONV_DIMS: (512, 512, 512, 512, 512, 512, 512, 512)\n",
      "  LOSS_WEIGHT: 1.0\n",
      "  MIN_KEYPOINTS_PER_IMAGE: 1\n",
      "  NAME: KRCNNConvDeconvUpsampleHead\n",
      "  NORMALIZE_LOSS_BY_VISIBLE_KEYPOINTS: True\n",
      "  NUM_KEYPOINTS: 17\n",
      "  POOLER_RESOLUTION: 14\n",
      "  POOLER_SAMPLING_RATIO: 0\n",
      "  POOLER_TYPE: ROIAlignV2\n",
      "ROI_MASK_HEAD:\n",
      "  CLS_AGNOSTIC_MASK: False\n",
      "  CONV_DIM: 256\n",
      "  NAME: MaskRCNNConvUpsampleHead\n",
      "  NORM: \n",
      "  NUM_CONV: 4\n",
      "  POOLER_RESOLUTION: 14\n",
      "  POOLER_SAMPLING_RATIO: 0\n",
      "  POOLER_TYPE: ROIAlignV2\n",
      "RPN:\n",
      "  BATCH_SIZE_PER_IMAGE: 256\n",
      "  BBOX_REG_LOSS_TYPE: smooth_l1\n",
      "  BBOX_REG_LOSS_WEIGHT: 1.0\n",
      "  BBOX_REG_WEIGHTS: (1.0, 1.0, 1.0, 1.0)\n",
      "  BOUNDARY_THRESH: -1\n",
      "  CONV_DIMS: [-1]\n",
      "  HEAD_NAME: StandardRPNHead\n",
      "  IN_FEATURES: ['p2', 'p3', 'p4', 'p5', 'p6']\n",
      "  IOU_LABELS: [0, -1, 1]\n",
      "  IOU_THRESHOLDS: [0.3, 0.7]\n",
      "  LOSS_WEIGHT: 1.0\n",
      "  NMS_THRESH: 0.7\n",
      "  POSITIVE_FRACTION: 0.5\n",
      "  POST_NMS_TOPK_TEST: 1000\n",
      "  POST_NMS_TOPK_TRAIN: 1000\n",
      "  PRE_NMS_TOPK_TEST: 1000\n",
      "  PRE_NMS_TOPK_TRAIN: 2000\n",
      "  SMOOTH_L1_BETA: 0.0\n",
      "SEM_SEG_HEAD:\n",
      "  COMMON_STRIDE: 4\n",
      "  CONVS_DIM: 128\n",
      "  IGNORE_VALUE: 255\n",
      "  IN_FEATURES: ['p2', 'p3', 'p4', 'p5']\n",
      "  LOSS_WEIGHT: 1.0\n",
      "  NAME: SemSegFPNHead\n",
      "  NORM: GN\n",
      "  NUM_CLASSES: 54\n",
      "WEIGHTS: https://dl.fbaipublicfiles.com/detectron2/COCO-InstanceSegmentation/mask_rcnn_R_50_FPN_3x/137849600/model_final_f10217.pkl\n"
     ]
    }
   ],
   "source": [
    "print(cfg.MODEL)  # This will show you the FPN-related parameters\n"
   ]
  }
 ],
 "metadata": {
  "kernelspec": {
   "display_name": "computer-vision-d9NbPVUF-py3.10",
   "language": "python",
   "name": "python3"
  },
  "language_info": {
   "codemirror_mode": {
    "name": "ipython",
    "version": 3
   },
   "file_extension": ".py",
   "mimetype": "text/x-python",
   "name": "python",
   "nbconvert_exporter": "python",
   "pygments_lexer": "ipython3",
   "version": "3.10.12"
  }
 },
 "nbformat": 4,
 "nbformat_minor": 2
}
